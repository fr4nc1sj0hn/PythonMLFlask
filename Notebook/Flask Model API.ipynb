{
 "cells": [
  {
   "cell_type": "code",
   "execution_count": 1,
   "metadata": {
    "collapsed": true
   },
   "outputs": [],
   "source": [
    "import requests\n",
    "json = open(\"C:/My/StockData/StockFundametalDataTest.json\")\n",
    "url = \"http://52.187.146.85:5000/predict\"\n",
    "headers = {'content-type': 'application/json', 'Accept-Charset': 'UTF-8'}\n",
    "r = requests.post(url, data=json, headers=headers)\n",
    "predictedjson = r.json()"
   ]
  },
  {
   "cell_type": "code",
   "execution_count": 2,
   "metadata": {},
   "outputs": [
    {
     "data": {
      "text/plain": [
       "['Loss',\n",
       " 'Profit',\n",
       " 'Profit',\n",
       " 'Profit',\n",
       " 'Profit',\n",
       " 'Loss',\n",
       " 'Profit',\n",
       " 'Profit',\n",
       " 'Profit',\n",
       " 'Profit',\n",
       " 'Profit',\n",
       " 'Profit',\n",
       " 'Profit',\n",
       " 'Loss',\n",
       " 'Profit',\n",
       " 'Profit',\n",
       " 'Profit',\n",
       " 'Profit',\n",
       " 'Profit',\n",
       " 'Profit',\n",
       " 'Profit',\n",
       " 'Profit',\n",
       " 'Profit',\n",
       " 'Profit',\n",
       " 'Profit',\n",
       " 'Profit',\n",
       " 'Profit',\n",
       " 'Profit',\n",
       " 'Profit',\n",
       " 'Profit',\n",
       " 'Profit',\n",
       " 'Profit',\n",
       " 'Profit',\n",
       " 'Profit',\n",
       " 'Profit',\n",
       " 'Profit',\n",
       " 'Profit',\n",
       " 'Profit',\n",
       " 'Profit',\n",
       " 'Profit',\n",
       " 'Profit',\n",
       " 'Profit',\n",
       " 'Profit',\n",
       " 'Profit',\n",
       " 'Profit',\n",
       " 'Profit',\n",
       " 'Profit',\n",
       " 'Profit',\n",
       " 'Profit',\n",
       " 'Profit',\n",
       " 'Profit',\n",
       " 'Profit',\n",
       " 'Profit',\n",
       " 'Profit',\n",
       " 'Profit',\n",
       " 'Profit',\n",
       " 'Profit']"
      ]
     },
     "execution_count": 2,
     "metadata": {},
     "output_type": "execute_result"
    }
   ],
   "source": [
    "lstprediction = predictedjson['prediction']\n",
    "lstrequest = ['Profit' if prediction == 1 else 'Loss' for prediction in lstprediction]\n",
    "lstrequest"
   ]
  },
  {
   "cell_type": "code",
   "execution_count": null,
   "metadata": {
    "collapsed": true
   },
   "outputs": [],
   "source": []
  }
 ],
 "metadata": {
  "kernelspec": {
   "display_name": "Python 3",
   "language": "python",
   "name": "python3"
  },
  "language_info": {
   "codemirror_mode": {
    "name": "ipython",
    "version": 3
   },
   "file_extension": ".py",
   "mimetype": "text/x-python",
   "name": "python",
   "nbconvert_exporter": "python",
   "pygments_lexer": "ipython3",
   "version": "3.6.2"
  }
 },
 "nbformat": 4,
 "nbformat_minor": 2
}
